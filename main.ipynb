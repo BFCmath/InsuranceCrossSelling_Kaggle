{
 "cells": [
  {
   "cell_type": "code",
   "execution_count": 1,
   "metadata": {},
   "outputs": [],
   "source": [
    "import numpy as np\n",
    "import pandas as pd"
   ]
  },
  {
   "cell_type": "code",
   "execution_count": 2,
   "metadata": {},
   "outputs": [],
   "source": [
    "train = pd.read_csv('train.csv')\n",
    "test = pd.read_csv('test.csv')"
   ]
  },
  {
   "cell_type": "code",
   "execution_count": null,
   "metadata": {},
   "outputs": [],
   "source": [
    "train.columns"
   ]
  },
  {
   "cell_type": "code",
   "execution_count": null,
   "metadata": {},
   "outputs": [],
   "source": [
    "train.head()"
   ]
  },
  {
   "cell_type": "markdown",
   "metadata": {},
   "source": [
    "## Data preprocessing"
   ]
  },
  {
   "cell_type": "code",
   "execution_count": null,
   "metadata": {},
   "outputs": [],
   "source": [
    "train[\"Response\"].value_counts()"
   ]
  },
  {
   "cell_type": "code",
   "execution_count": null,
   "metadata": {},
   "outputs": [],
   "source": [
    "train.isna().sum()"
   ]
  },
  {
   "cell_type": "markdown",
   "metadata": {},
   "source": [
    "Note: \n",
    "+ no null\n",
    "+ label: Response \n",
    "+ id: no use\n",
    "+ Gender: binary \n",
    "+ Age: -> change to category\n",
    "+ Driving_License: binary  \n",
    "+ Region_Code: change to category\n",
    "+ previous_insured: binary \n",
    "+ Vehicle_Damage: binary\n",
    "+ Vehicle_Damage: category\n",
    "+ Annual_Premium: numerical \n",
    "+ Policy_Sales_Channel: -> change to category\n",
    "+ vintage: -> change to category\n",
    "\n",
    "Important: \n",
    "+ this is imbalance dataset"
   ]
  },
  {
   "cell_type": "markdown",
   "metadata": {},
   "source": [
    "## EDA & Feature Selection"
   ]
  },
  {
   "cell_type": "markdown",
   "metadata": {},
   "source": [
    "### Binary cols"
   ]
  },
  {
   "cell_type": "code",
   "execution_count": null,
   "metadata": {},
   "outputs": [],
   "source": [
    "import seaborn as sns \n",
    "import matplotlib.pyplot as plt"
   ]
  },
  {
   "cell_type": "code",
   "execution_count": null,
   "metadata": {},
   "outputs": [],
   "source": [
    "group_res = train.groupby('Response')"
   ]
  },
  {
   "cell_type": "code",
   "execution_count": null,
   "metadata": {},
   "outputs": [],
   "source": [
    "train.groupby('Previously_Insured')[\"Response\"].value_counts()"
   ]
  },
  {
   "cell_type": "code",
   "execution_count": null,
   "metadata": {},
   "outputs": [],
   "source": [
    "train.groupby('Gender')[\"Response\"].value_counts()"
   ]
  },
  {
   "cell_type": "code",
   "execution_count": null,
   "metadata": {},
   "outputs": [],
   "source": [
    "train.groupby('Driving_License')[\"Response\"].value_counts()"
   ]
  },
  {
   "cell_type": "code",
   "execution_count": null,
   "metadata": {},
   "outputs": [],
   "source": [
    "train.groupby('Vehicle_Age')[\"Response\"].value_counts()"
   ]
  },
  {
   "cell_type": "code",
   "execution_count": null,
   "metadata": {},
   "outputs": [],
   "source": [
    "train.groupby('Vehicle_Damage')[\"Response\"].value_counts()"
   ]
  },
  {
   "cell_type": "markdown",
   "metadata": {},
   "source": [
    "Note: \n",
    "+ people with no insure has higher chance to respond\n",
    "+ Male has slightly higher rate of response\n",
    "+ people without license is not likely to respond\n",
    "+ the more people ride, the more they respond\n",
    "+ people with vihicle damage arre likely to respond"
   ]
  },
  {
   "cell_type": "markdown",
   "metadata": {},
   "source": [
    "### Numerical cols"
   ]
  },
  {
   "cell_type": "markdown",
   "metadata": {},
   "source": [
    "Age, Region_Code, Annual_Premium, Policy_Sales_Channel, Vintage\n"
   ]
  },
  {
   "cell_type": "code",
   "execution_count": null,
   "metadata": {},
   "outputs": [],
   "source": [
    "def plot_all_cols(data,cols):\n",
    "    id_res = (data[\"Response\"] == 1)\n",
    "    id_no_res = (data[\"Response\"] == 0)\n",
    "    l = len(cols)\n",
    "    plt.figure(figsize=(20,5*l))\n",
    "    for i,col in enumerate(cols):\n",
    "        print(col)\n",
    "        plt.subplot(l,2,i*2+1)\n",
    "        value,count = np.unique(data[col].loc[id_res],return_counts=True)\n",
    "        plt.bar(value,count)\n",
    "        plt.subplot(l,2,i*2+2)\n",
    "        value,count = np.unique(data[col].loc[id_no_res],return_counts=True)\n",
    "        plt.bar(value,count,color='r')\n",
    "    plt.tight_layout()\n",
    "        "
   ]
  },
  {
   "cell_type": "code",
   "execution_count": null,
   "metadata": {},
   "outputs": [],
   "source": [
    "plot_all_cols(train,[\"Age\",\"Region_Code\",\"Policy_Sales_Channel\"])"
   ]
  },
  {
   "cell_type": "code",
   "execution_count": 7,
   "metadata": {},
   "outputs": [],
   "source": [
    "def cal_pct_diff(data,col):\n",
    "    id_res = (data[\"Response\"] == 1)\n",
    "    id_no_res = (data[\"Response\"] == 0)\n",
    "    value_res,count_res = np.unique(data[col].loc[id_res],return_counts=True)\n",
    "    value_no_res,count_no_res = np.unique(data[col].loc[id_no_res],return_counts=True)\n",
    "    res = {}\n",
    "    for i in range(len(value_res)):\n",
    "        res[value_res[i]] = count_res[i]/count_no_res[i]\n",
    "    return res"
   ]
  },
  {
   "cell_type": "code",
   "execution_count": 4,
   "metadata": {},
   "outputs": [
    {
     "data": {
      "text/plain": [
       "0.14024733444542023"
      ]
     },
     "execution_count": 4,
     "metadata": {},
     "output_type": "execute_result"
    }
   ],
   "source": [
    "pct_res = (train[\"Response\"] == 1).sum()/(train[\"Response\"] == 0).sum()\n",
    "pct_res"
   ]
  },
  {
   "cell_type": "code",
   "execution_count": null,
   "metadata": {},
   "outputs": [],
   "source": [
    "dict_pct = cal_pct_diff(train,\"Vintage\")\n",
    "keys = np.array(list(dict_pct.keys()))\n",
    "values = np.array(list(dict_pct.values()))\n",
    "# plt.figure(figsize=(20,5))\n",
    "plt.bar(keys,values)\n",
    "plt.plot([10,300],[pct_res,pct_res],'r')\n",
    "plt.plot([10,300],[pct_res,pct_res],'r')"
   ]
  },
  {
   "cell_type": "code",
   "execution_count": null,
   "metadata": {},
   "outputs": [],
   "source": [
    "def draw_plot_range_pct(range_pct,keys,values,pct_res=pct_res):\n",
    "    plt.bar(keys,sorted(values))\n",
    "    plt.plot([min(keys),max(keys)],[pct_res,pct_res],'r')\n",
    "    for pct in range_pct:\n",
    "        plt.plot([min(keys),max(keys)],[pct,pct],'g')"
   ]
  },
  {
   "cell_type": "code",
   "execution_count": null,
   "metadata": {},
   "outputs": [],
   "source": [
    "range_pct = [0.08,0.1,0.12,0.17,0.22,0.28,0.3,0.33,0.37]\n",
    "draw_plot_range_pct(range_pct,keys,values)"
   ]
  },
  {
   "cell_type": "code",
   "execution_count": 3,
   "metadata": {},
   "outputs": [],
   "source": [
    "def create_groups(df, column_name,keys,values, range_pct):    \n",
    "    bins = [float('-inf')] + range_pct + [float('inf')]\n",
    "    cutten_groups = []\n",
    "    \n",
    "    for i in range(1, len(bins)):\n",
    "        idx = (values > bins[i-1]) & (values <= bins[i])\n",
    "        cutten_groups.append(keys[idx])\n",
    "    \n",
    "    # Check if any key is missing\n",
    "    total_grouped = sum(len(g) for g in cutten_groups)\n",
    "    if total_grouped != len(keys):\n",
    "        print(f\"Warning: {len(keys) - total_grouped} keys are missing from groups\")\n",
    "    \n",
    "    dict_cutten_groups = {}\n",
    "    for idx, group in enumerate(cutten_groups):\n",
    "        for value in group:\n",
    "            dict_cutten_groups[value] = f'Group{idx}'\n",
    "    \n",
    "    new_column_name = f'{column_name}Group'\n",
    "    df[new_column_name] = df[column_name].map(dict_cutten_groups).fillna('Unknown')\n",
    "    \n",
    "    return df"
   ]
  },
  {
   "cell_type": "code",
   "execution_count": null,
   "metadata": {},
   "outputs": [],
   "source": [
    "create_groups(train,\"Vintage\",keys,values,range_pct)"
   ]
  },
  {
   "cell_type": "code",
   "execution_count": null,
   "metadata": {},
   "outputs": [],
   "source": [
    "train[\"VintageGroup\"].value_counts()"
   ]
  },
  {
   "cell_type": "code",
   "execution_count": 6,
   "metadata": {},
   "outputs": [
    {
     "ename": "NameError",
     "evalue": "name 'cal_pct_diff' is not defined",
     "output_type": "error",
     "traceback": [
      "\u001b[1;31m---------------------------------------------------------------------------\u001b[0m",
      "\u001b[1;31mNameError\u001b[0m                                 Traceback (most recent call last)",
      "Cell \u001b[1;32mIn[6], line 1\u001b[0m\n\u001b[1;32m----> 1\u001b[0m dict_pct \u001b[38;5;241m=\u001b[39m \u001b[43mcal_pct_diff\u001b[49m(train,\u001b[38;5;124m\"\u001b[39m\u001b[38;5;124mRegion_Code\u001b[39m\u001b[38;5;124m\"\u001b[39m)\n\u001b[0;32m      2\u001b[0m keys \u001b[38;5;241m=\u001b[39m np\u001b[38;5;241m.\u001b[39marray(\u001b[38;5;28mlist\u001b[39m(dict_pct\u001b[38;5;241m.\u001b[39mkeys()))\n\u001b[0;32m      3\u001b[0m values \u001b[38;5;241m=\u001b[39m np\u001b[38;5;241m.\u001b[39marray(\u001b[38;5;28mlist\u001b[39m(dict_pct\u001b[38;5;241m.\u001b[39mvalues()))\n",
      "\u001b[1;31mNameError\u001b[0m: name 'cal_pct_diff' is not defined"
     ]
    }
   ],
   "source": [
    "dict_pct = cal_pct_diff(train,\"Region_Code\")\n",
    "keys = np.array(list(dict_pct.keys()))\n",
    "values = np.array(list(dict_pct.values()))\n",
    "idx = values < 0.9\n",
    "plt.bar(keys[idx],values[idx])\n",
    "plt.bar(keys[~idx],1,color='r')\n",
    "plt.plot([0,52],[pct_res,pct_res],'r')"
   ]
  },
  {
   "cell_type": "code",
   "execution_count": null,
   "metadata": {},
   "outputs": [],
   "source": [
    "values_tmp = values.copy() \n",
    "values_tmp[~idx] = 0.9"
   ]
  },
  {
   "cell_type": "code",
   "execution_count": null,
   "metadata": {},
   "outputs": [],
   "source": [
    "range_pct = [0.04,0.07,0.11,0.2,0.26,0.42,0.6,1]"
   ]
  },
  {
   "cell_type": "code",
   "execution_count": null,
   "metadata": {},
   "outputs": [],
   "source": [
    "draw_plot_range_pct(range_pct=range_pct,keys=keys,values=values_tmp)"
   ]
  },
  {
   "cell_type": "code",
   "execution_count": null,
   "metadata": {},
   "outputs": [],
   "source": [
    "range_pct += [3]"
   ]
  },
  {
   "cell_type": "code",
   "execution_count": 5,
   "metadata": {},
   "outputs": [
    {
     "ename": "NameError",
     "evalue": "name 'keys' is not defined",
     "output_type": "error",
     "traceback": [
      "\u001b[1;31m---------------------------------------------------------------------------\u001b[0m",
      "\u001b[1;31mNameError\u001b[0m                                 Traceback (most recent call last)",
      "Cell \u001b[1;32mIn[5], line 1\u001b[0m\n\u001b[1;32m----> 1\u001b[0m create_groups(train,\u001b[38;5;124m\"\u001b[39m\u001b[38;5;124mRegion_Code\u001b[39m\u001b[38;5;124m\"\u001b[39m,\u001b[43mkeys\u001b[49m,values,range_pct)\n",
      "\u001b[1;31mNameError\u001b[0m: name 'keys' is not defined"
     ]
    }
   ],
   "source": [
    "create_groups(train,\"Region_Code\",keys,values,range_pct)"
   ]
  },
  {
   "cell_type": "code",
   "execution_count": null,
   "metadata": {},
   "outputs": [],
   "source": [
    "train[\"Region_Code\"][train[\"Region_CodeGroup\"] == \"Unknown\"]"
   ]
  },
  {
   "cell_type": "code",
   "execution_count": null,
   "metadata": {},
   "outputs": [],
   "source": [
    "train[\"Policy_Sales_Channel\"].value_counts()"
   ]
  },
  {
   "cell_type": "code",
   "execution_count": null,
   "metadata": {},
   "outputs": [],
   "source": [
    "dict_pct = cal_pct_diff(train,\"Policy_Sales_Channel\")\n",
    "keys = np.array(list(dict_pct.keys()))\n",
    "values = np.log1p(np.array(list(dict_pct.values())))\n",
    "idx = values < 0.4\n",
    "# plt.bar(keys,values)\n",
    "plt.bar(keys[idx],values[idx])\n",
    "# plt.bar(keys[~idx],1,color='r')\n",
    "plt.plot([min(keys),max(keys)],[pct_res,pct_res],'r')"
   ]
  },
  {
   "cell_type": "code",
   "execution_count": null,
   "metadata": {},
   "outputs": [],
   "source": [
    "values_tmp = values.copy() \n",
    "values_tmp[~idx] = 0.4"
   ]
  },
  {
   "cell_type": "code",
   "execution_count": null,
   "metadata": {},
   "outputs": [],
   "source": [
    "range_pct = [0.05,0.1,0.2,0.25,0.39]"
   ]
  },
  {
   "cell_type": "code",
   "execution_count": null,
   "metadata": {},
   "outputs": [],
   "source": [
    "draw_plot_range_pct(range_pct=range_pct,keys=keys,values=values_tmp)"
   ]
  },
  {
   "cell_type": "code",
   "execution_count": null,
   "metadata": {},
   "outputs": [],
   "source": [
    "idx2 = values > 0.4\n",
    "# plt.bar(keys,values)\n",
    "plt.bar(keys[idx2],values[idx2])\n",
    "# plt.bar(keys[~idx],1,color='r')\n",
    "plt.plot([min(keys),max(keys)],[pct_res,pct_res],'r')"
   ]
  },
  {
   "cell_type": "code",
   "execution_count": null,
   "metadata": {},
   "outputs": [],
   "source": [
    "range_pct_2 = [1.1,2,2.7,3.3,4,4.9,6.8]\n",
    "draw_plot_range_pct(range_pct=range_pct_2,keys=keys,values=values)"
   ]
  },
  {
   "cell_type": "code",
   "execution_count": null,
   "metadata": {},
   "outputs": [],
   "source": [
    "final_range_pct = range_pct + range_pct_2"
   ]
  },
  {
   "cell_type": "code",
   "execution_count": null,
   "metadata": {},
   "outputs": [],
   "source": [
    "create_groups(train,\"Policy_Sales_Channel\",keys,values,final_range_pct)"
   ]
  },
  {
   "cell_type": "code",
   "execution_count": null,
   "metadata": {},
   "outputs": [],
   "source": [
    "train[\"Policy_Sales_ChannelGroup\"].value_counts()"
   ]
  },
  {
   "cell_type": "code",
   "execution_count": null,
   "metadata": {},
   "outputs": [],
   "source": [
    "dict_pct = cal_pct_diff(train,\"Age\")\n",
    "keys = np.array(list(dict_pct.keys()))\n",
    "values = np.array(list(dict_pct.values()))\n",
    "# plt.figure(figsize=(20,5))\n",
    "plt.bar(keys,values)\n",
    "plt.plot([20,84],[pct_res,pct_res],'r')"
   ]
  },
  {
   "cell_type": "code",
   "execution_count": null,
   "metadata": {},
   "outputs": [],
   "source": [
    "range_pct = [0.04,0.07,0.12,0.16,0.205,0.235,0.265,0.287]"
   ]
  },
  {
   "cell_type": "code",
   "execution_count": null,
   "metadata": {},
   "outputs": [],
   "source": [
    "draw_plot_range_pct(range_pct=range_pct,keys=keys,values=values)"
   ]
  },
  {
   "cell_type": "code",
   "execution_count": null,
   "metadata": {},
   "outputs": [],
   "source": [
    "create_groups(train,\"Age\",keys,values,range_pct)"
   ]
  },
  {
   "cell_type": "code",
   "execution_count": null,
   "metadata": {},
   "outputs": [],
   "source": [
    "train[\"AgeGroup\"].value_counts()"
   ]
  },
  {
   "cell_type": "code",
   "execution_count": null,
   "metadata": {},
   "outputs": [],
   "source": [
    "train[\"Annual_log\"] = train[\"Annual_Premium\"].apply(np.log1p)"
   ]
  },
  {
   "cell_type": "code",
   "execution_count": null,
   "metadata": {},
   "outputs": [],
   "source": [
    "train[\"Annual_log\"].describe()"
   ]
  },
  {
   "cell_type": "code",
   "execution_count": null,
   "metadata": {},
   "outputs": [],
   "source": [
    "bins = [float('-inf'), 8.0, 8.5,9.0,9.5,10,10.5,11,11.5,12,12.5,13,float('inf')]\n",
    "labels = ['-8','8-8.5','8.5-9','9-9.5','9.5-10','10-10.5','10.5-11','11-11.5','11.5-12','12-12.5','12.5-13','13+']\n",
    "train.loc[:, \"AnnualGroup\"]= pd.cut(train[\"Annual_log\"],bins=bins,labels=labels,right=True, include_lowest=True)"
   ]
  },
  {
   "cell_type": "code",
   "execution_count": null,
   "metadata": {},
   "outputs": [],
   "source": [
    "grouped_age= train.groupby(['AnnualGroup', 'Response']).size().unstack(fill_value=0)\n",
    "grouped_age.plot(kind='bar', stacked=False, color=['red', 'green'])"
   ]
  },
  {
   "cell_type": "code",
   "execution_count": null,
   "metadata": {},
   "outputs": [],
   "source": [
    "dict_pct = cal_pct_diff(train,\"AnnualGroup\")\n",
    "keys = np.array(list(dict_pct.keys()))\n",
    "values = np.array(list(dict_pct.values()))\n",
    "# plt.figure(figsize=(20,5))\n",
    "plt.bar(keys,values)\n",
    "plt.plot([0,len(keys)-1],[pct_res,pct_res],'r')"
   ]
  },
  {
   "cell_type": "code",
   "execution_count": null,
   "metadata": {},
   "outputs": [],
   "source": [
    "train[\"AnnualGroup\"].value_counts()"
   ]
  },
  {
   "cell_type": "code",
   "execution_count": null,
   "metadata": {},
   "outputs": [],
   "source": [
    "train"
   ]
  },
  {
   "cell_type": "markdown",
   "metadata": {},
   "source": [
    "## Feature engineering"
   ]
  },
  {
   "cell_type": "code",
   "execution_count": null,
   "metadata": {},
   "outputs": [],
   "source": [
    "columns = [\"Gender\",\"Driving_License\",\"Previously_Insured\",\"Vehicle_Age\",\"Vehicle_Damage\",\"Region_CodeGroup\",\"Policy_Sales_ChannelGroup\",\"VintageGroup\",\"AgeGroup\",\"AnnualGroup\",\"Annual_Premium\"]\n",
    "label = [\"Response\"]"
   ]
  },
  {
   "cell_type": "code",
   "execution_count": null,
   "metadata": {},
   "outputs": [],
   "source": [
    "df_train = train[columns+label]\n",
    "X_train = df_train.drop(columns=label)\n",
    "y_train = df_train[label]"
   ]
  },
  {
   "cell_type": "code",
   "execution_count": null,
   "metadata": {},
   "outputs": [],
   "source": [
    "binary_cols = [\"Gender\",\"Driving_License\",\"Previously_Insured\",\"Vehicle_Damage\"]\n",
    "multi_cols = [\"Vehicle_Age\",\"Region_CodeGroup\",\"Policy_Sales_ChannelGroup\",\"VintageGroup\",\"AgeGroup\",\"AnnualGroup\"]\n",
    "num_cols = [\"Annual_Premium\"]"
   ]
  },
  {
   "cell_type": "code",
   "execution_count": null,
   "metadata": {},
   "outputs": [],
   "source": [
    "# One hot encoding\n",
    "X_train = pd.get_dummies(X_train, columns=multi_cols)\n",
    "X_train = pd.get_dummies(X_train, columns=binary_cols, drop_first=True)"
   ]
  },
  {
   "cell_type": "code",
   "execution_count": null,
   "metadata": {},
   "outputs": [],
   "source": [
    "X_train.columns"
   ]
  },
  {
   "cell_type": "code",
   "execution_count": null,
   "metadata": {},
   "outputs": [],
   "source": [
    "# Standardization\n",
    "from sklearn.preprocessing import StandardScaler\n",
    "scaler = StandardScaler()\n",
    "X_train[num_cols] = scaler.fit_transform(X_train[num_cols])"
   ]
  },
  {
   "cell_type": "code",
   "execution_count": null,
   "metadata": {},
   "outputs": [],
   "source": [
    "concat_df_train = pd.concat([X_train,y_train],axis=1) "
   ]
  },
  {
   "cell_type": "code",
   "execution_count": null,
   "metadata": {},
   "outputs": [],
   "source": [
    "corr_matrix = concat_df_train.corr()"
   ]
  },
  {
   "cell_type": "code",
   "execution_count": null,
   "metadata": {},
   "outputs": [],
   "source": [
    "corr_threshold  = 0.03\n",
    "high_corr_cols = corr_matrix[abs(corr_matrix['Response']) > corr_threshold].index\n",
    "sorted_corr_matrix = concat_df_train[high_corr_cols].corr()\n",
    "sorted_corr_matrix['Response'].sort_values(ascending=False)\n",
    "sns.heatmap(sorted_corr_matrix, annot=True,cmap='coolwarm')\n"
   ]
  },
  {
   "cell_type": "markdown",
   "metadata": {},
   "source": [
    "## Choosing Model"
   ]
  },
  {
   "cell_type": "markdown",
   "metadata": {},
   "source": [
    "### Split val-train"
   ]
  },
  {
   "cell_type": "code",
   "execution_count": null,
   "metadata": {},
   "outputs": [],
   "source": [
    "from sklearn.model_selection import train_test_split\n",
    "X_train, X_val, y_train, y_val = train_test_split(X_train, y_train, test_size=0.2, random_state=42,stratify=y_train)"
   ]
  },
  {
   "cell_type": "code",
   "execution_count": null,
   "metadata": {},
   "outputs": [],
   "source": [
    "y_train.value_counts(), y_val.value_counts()"
   ]
  },
  {
   "cell_type": "markdown",
   "metadata": {},
   "source": [
    "### RandomForest"
   ]
  },
  {
   "cell_type": "code",
   "execution_count": null,
   "metadata": {},
   "outputs": [],
   "source": [
    "from sklearn.ensemble import RandomForestClassifier\n",
    "from sklearn.metrics import roc_auc_score, f1_score\n",
    "\n",
    "rf_classifier = RandomForestClassifier(n_estimators=100, random_state=42, n_jobs=-1, warm_start=True)\n",
    "chunk_size = 1000000  # Adjust based on your available memory\n",
    "for i in range(0, len(X_train), chunk_size):\n",
    "    X_chunk = X_train[i:i+chunk_size]\n",
    "    y_chunk = y_train[i:i+chunk_size].values.reshape(-1)\n",
    "    rf_classifier.n_estimators += 10  # Grow 10 new trees each iteration\n",
    "    rf_classifier.fit(X_chunk, y_chunk)\n",
    "\n",
    "y_pred = rf_classifier.predict(X_val)\n",
    "\n",
    "# Evaluate the model\n",
    "auc = roc_auc_score(y_val, y_pred)\n",
    "f1 = f1_score(y_val, y_pred)\n",
    "print(f'AUC: {auc:.4f}')\n",
    "print(f'F1 Score: {f1:.4f}')\n",
    "\n"
   ]
  },
  {
   "cell_type": "code",
   "execution_count": null,
   "metadata": {},
   "outputs": [],
   "source": [
    "import joblib\n",
    "joblib.dump(rf_classifier, 'rf_classifier_model.joblib')"
   ]
  },
  {
   "cell_type": "markdown",
   "metadata": {},
   "source": [
    "Logistic Regression"
   ]
  },
  {
   "cell_type": "code",
   "execution_count": null,
   "metadata": {},
   "outputs": [],
   "source": [
    "from sklearn.linear_model import SGDClassifier\n",
    "from sklearn.metrics import roc_auc_score, f1_score\n",
    "clf = SGDClassifier(loss='log_loss', random_state=42)\n",
    "\n",
    "batch_size = 1000000\n",
    "for i in range(0, X_train.shape[0], batch_size):\n",
    "    print(f'Training batch {i // batch_size + 1}/{X_train.shape[0] // batch_size}')\n",
    "    X_batch = X_train[i:i + batch_size]\n",
    "    y_batch = y_train[i:i + batch_size].values.reshape(-1)\n",
    "    clf.partial_fit(X_batch, y_batch, classes=np.unique(y_train))\n",
    "\n",
    "# Predict on the validation set\n",
    "y_pred = clf.predict(X_val)\n",
    "\n",
    "# Evaluate the model\n",
    "auc = roc_auc_score(y_val, y_pred)\n",
    "f1 = f1_score(y_val, y_pred)\n",
    "print(f'AUC: {auc:.4f}')\n",
    "print(f'F1 Score: {f1:.4f}')"
   ]
  },
  {
   "cell_type": "code",
   "execution_count": null,
   "metadata": {},
   "outputs": [],
   "source": [
    "y_train.shape"
   ]
  }
 ],
 "metadata": {
  "kernelspec": {
   "display_name": "base",
   "language": "python",
   "name": "python3"
  },
  "language_info": {
   "codemirror_mode": {
    "name": "ipython",
    "version": 3
   },
   "file_extension": ".py",
   "mimetype": "text/x-python",
   "name": "python",
   "nbconvert_exporter": "python",
   "pygments_lexer": "ipython3",
   "version": "3.11.9"
  }
 },
 "nbformat": 4,
 "nbformat_minor": 2
}
